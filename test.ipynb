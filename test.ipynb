{
  "cells": [
    {
      "cell_type": "code",
      "execution_count": 77,
      "metadata": {
        "id": "ONmWcrKn6A0y"
      },
      "outputs": [
        {
          "data": {
            "text/plain": [
              "device(type='cuda')"
            ]
          },
          "execution_count": 77,
          "metadata": {},
          "output_type": "execute_result"
        }
      ],
      "source": [
        "from transformers import AutoImageProcessor, AutoModelForImageClassification\n",
        "import torchvision.transforms as transforms\n",
        "import matplotlib.pyplot as plt\n",
        "import torch\n",
        "from torchvision.datasets import Food101\n",
        "from trak import TRAKer\n",
        "\n",
        "\n",
        "device = torch.device(\"cuda\" if torch.cuda.is_available() else \"cpu\")\n",
        "device"
      ]
    },
    {
      "cell_type": "code",
      "execution_count": 78,
      "metadata": {},
      "outputs": [],
      "source": [
        "processor = AutoImageProcessor.from_pretrained(\"apple/mobilevit-small\")\n",
        "model = AutoModelForImageClassification.from_pretrained(\"apple/mobilevit-small\")"
      ]
    },
    {
      "cell_type": "code",
      "execution_count": 81,
      "metadata": {},
      "outputs": [],
      "source": [
        "def preprocess_image(image):\n",
        "    image = transforms.functional.pil_to_tensor(image)\n",
        "    # copying to avoid negative stride error of numpy array (seems necessary, sadly)\n",
        "    processed_image = (processor.preprocess(image)[\"pixel_values\"][0]).copy()\n",
        "    return torch.from_numpy(processed_image)\n",
        "\n",
        "dataset = Food101(\"data/food-101\", transform=preprocess_image, download=True)"
      ]
    },
    {
      "cell_type": "code",
      "execution_count": 85,
      "metadata": {},
      "outputs": [
        {
          "data": {
            "text/plain": [
              "(torch.Size([64, 3, 256, 256]), torch.Size([64]))"
            ]
          },
          "execution_count": 85,
          "metadata": {},
          "output_type": "execute_result"
        }
      ],
      "source": [
        "train_dl = torch.utils.data.DataLoader(dataset, batch_size=64, shuffle=True)\n",
        "\n",
        "for X, y in train_dl:\n",
        "    break\n",
        "\n",
        "X.shape, y.shape"
      ]
    },
    {
      "cell_type": "code",
      "execution_count": null,
      "metadata": {},
      "outputs": [],
      "source": [
        "# TODO finetune the model on food101 dataset -> use TRAK -> finetune again on the base model -> look at the results"
      ]
    },
    {
      "cell_type": "code",
      "execution_count": 84,
      "metadata": {},
      "outputs": [
        {
          "name": "stderr",
          "output_type": "stream",
          "text": [
            "ERROR:TRAK:Could not use CudaProjector.\n",
            "Reason: No module named 'fast_jl'\n",
            "ERROR:TRAK:Defaulting to BasicProjector.\n",
            "INFO:STORE:No existing model IDs in C:\\Users\\kamil\\OneDrive\\Pulpit\\przedmioty\\semestr 8\\automating science\\trak-for-automating-science\\trak_results.\n",
            "INFO:STORE:No existing TRAK scores in C:\\Users\\kamil\\OneDrive\\Pulpit\\przedmioty\\semestr 8\\automating science\\trak-for-automating-science\\trak_results.\n"
          ]
        }
      ],
      "source": [
        "traker = TRAKer(model, task=\"image_classification\", train_set_size=len(dataset))"
      ]
    },
    {
      "cell_type": "code",
      "execution_count": null,
      "metadata": {},
      "outputs": [],
      "source": []
    }
  ],
  "metadata": {
    "colab": {
      "provenance": []
    },
    "kernelspec": {
      "display_name": "Python 3",
      "name": "python3"
    },
    "language_info": {
      "codemirror_mode": {
        "name": "ipython",
        "version": 3
      },
      "file_extension": ".py",
      "mimetype": "text/x-python",
      "name": "python",
      "nbconvert_exporter": "python",
      "pygments_lexer": "ipython3",
      "version": "3.10.13"
    }
  },
  "nbformat": 4,
  "nbformat_minor": 0
}
